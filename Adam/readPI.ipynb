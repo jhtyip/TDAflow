{
 "cells": [
  {
   "cell_type": "code",
   "execution_count": 246,
   "metadata": {},
   "outputs": [],
   "source": [
    "import numpy as np\n",
    "import matplotlib.pyplot as plt\n",
    "import os\n",
    "import random"
   ]
  },
  {
   "attachments": {},
   "cell_type": "markdown",
   "metadata": {},
   "source": [
    "There are 10000 persistence images (PI) in each of the \"PIGen/i/\" directories, where i = 0, 1, or 2 denotes the dimension of the topological features that the PIs plot."
   ]
  },
  {
   "cell_type": "code",
   "execution_count": 247,
   "metadata": {},
   "outputs": [],
   "source": [
    "PI_list = os.listdir(\"PIGen/0/\")  # Get the list of 10000 filenames in the 0-folder"
   ]
  },
  {
   "cell_type": "code",
   "execution_count": 248,
   "metadata": {},
   "outputs": [
    {
     "name": "stdout",
     "output_type": "stream",
     "text": [
      "fs_0.3663_0.6638_0.1_0.5_10_256_160_1_5_0_32_2.0.npy\n"
     ]
    }
   ],
   "source": [
    "PI = random.choice(PI_list)  # Randomly pick one PI\n",
    "print(PI)"
   ]
  },
  {
   "attachments": {},
   "cell_type": "markdown",
   "metadata": {},
   "source": [
    "The first number after \"fs\" is Om; the second number is s8."
   ]
  },
  {
   "cell_type": "code",
   "execution_count": 249,
   "metadata": {},
   "outputs": [
    {
     "name": "stdout",
     "output_type": "stream",
     "text": [
      "om=0.3663, s8=0.6638\n"
     ]
    }
   ],
   "source": [
    "om = float(PI.split(\"_\")[1])\n",
    "s8 = float(PI.split(\"_\")[2])\n",
    "print(\"om={}, s8={}\".format(om, s8))"
   ]
  },
  {
   "attachments": {},
   "cell_type": "markdown",
   "metadata": {},
   "source": [
    "Each PI is 32x32-dimensional."
   ]
  },
  {
   "cell_type": "code",
   "execution_count": 250,
   "metadata": {},
   "outputs": [
    {
     "name": "stdout",
     "output_type": "stream",
     "text": [
      "(32, 32)\n"
     ]
    },
    {
     "data": {
      "image/png": "[encoded data removed]",
      "text/plain": [
       "<Figure size 640x480 with 1 Axes>"
      ]
     },
     "metadata": {},
     "output_type": "display_data"
    }
   ],
   "source": [
    "PI_array = np.load(\"PIGen/0/{}\".format(PI))\n",
    "print(PI_array.shape)\n",
    "\n",
    "plt.imshow(PI_array, origin=\"lower\")\n",
    "plt.show()"
   ]
  }
 ],
 "metadata": {
  "kernelspec": {
   "display_name": "PHLSS",
   "language": "python",
   "name": "python3"
  },
  "language_info": {
   "codemirror_mode": {
    "name": "ipython",
    "version": 3
   },
   "file_extension": ".py",
   "mimetype": "text/x-python",
   "name": "python",
   "nbconvert_exporter": "python",
   "pygments_lexer": "ipython3",
   "version": "3.8.5"
  },
  "orig_nbformat": 4,
  "vscode": {
   "interpreter": {
    "hash": "7f3c20d12c2c24a71313b3d56f15e54a45d0d24aebb7844db1a2e0c9a3a80529"
   }
  }
 },
 "nbformat": 4,
 "nbformat_minor": 2
}
