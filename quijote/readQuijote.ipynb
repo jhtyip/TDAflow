{
 "cells": [
  {
   "cell_type": "code",
   "execution_count": 1,
   "metadata": {},
   "outputs": [],
   "source": [
    "import numpy as np"
   ]
  },
  {
   "cell_type": "code",
   "execution_count": 2,
   "metadata": {},
   "outputs": [],
   "source": [
    "import readfof\n",
    "\n",
    "# input files\n",
    "snapdir = 'quijote_halos' #folder hosting the catalogue\n",
    "snapnum = 3                                            #redshift 0\n",
    "\n",
    "# determine the redshift of the catalogue\n",
    "z_dict = {4:0.0, 3:0.5, 2:1.0, 1:2.0, 0:3.0}\n",
    "redshift = z_dict[snapnum]\n",
    "\n",
    "# read the halo catalogue\n",
    "FoF = readfof.FoF_catalog(snapdir, snapnum, long_ids=False,\n",
    "                          swap=False, SFR=False, read_IDs=False)\n",
    "\n",
    "# get the properties of the halos\n",
    "pos_h = FoF.GroupPos/1e3            #Halo positions in Mpc/h\n",
    "mass  = FoF.GroupMass*1e10          #Halo masses in Msun/h\n",
    "vel_h = FoF.GroupVel*(1.0+redshift) #Halo peculiar velocities in km/s\n",
    "Npart = FoF.GroupLen                #Number of CDM particles in the halo"
   ]
  },
  {
   "cell_type": "code",
   "execution_count": 11,
   "metadata": {},
   "outputs": [
    {
     "name": "stdout",
     "output_type": "stream",
     "text": [
      "(96183,)\n",
      "(309740,)\n"
     ]
    }
   ],
   "source": [
    "print(Npart[Npart>50].shape)\n",
    "print(Npart[Npart>0].shape)"
   ]
  },
  {
   "cell_type": "code",
   "execution_count": 12,
   "metadata": {},
   "outputs": [
    {
     "name": "stdout",
     "output_type": "stream",
     "text": [
      "656562461231.5477\n",
      "32828121810653.492\n"
     ]
    }
   ],
   "source": [
    "print(mass[1]/Npart[1])\n",
    "print(mass[2]/Npart[2]*50)"
   ]
  },
  {
   "cell_type": "code",
   "execution_count": 19,
   "metadata": {},
   "outputs": [
    {
     "name": "stdout",
     "output_type": "stream",
     "text": [
      "(1835, 6)\n"
     ]
    }
   ],
   "source": [
    "rockstar1 = np.load(\"rockstar_halos/fs_0.3089_0.8159_0.1_0.5_10_256_160_1_fid_4882.npy\")\n",
    "print(rockstar1.shape)"
   ]
  }
 ],
 "metadata": {
  "kernelspec": {
   "display_name": "PHLSS",
   "language": "python",
   "name": "python3"
  },
  "language_info": {
   "codemirror_mode": {
    "name": "ipython",
    "version": 3
   },
   "file_extension": ".py",
   "mimetype": "text/x-python",
   "name": "python",
   "nbconvert_exporter": "python",
   "pygments_lexer": "ipython3",
   "version": "3.8.5"
  },
  "orig_nbformat": 4
 },
 "nbformat": 4,
 "nbformat_minor": 2
}
