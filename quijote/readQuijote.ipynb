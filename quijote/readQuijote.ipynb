{
 "cells": [
  {
   "cell_type": "code",
   "execution_count": 5,
   "metadata": {},
   "outputs": [],
   "source": [
    "import numpy as np"
   ]
  },
  {
   "cell_type": "code",
   "execution_count": 7,
   "metadata": {},
   "outputs": [],
   "source": [
    "import readfof\n",
    "\n",
    "# input files\n",
    "snapdir = 'quijote_halos' #folder hosting the catalogue\n",
    "snapnum = 3                                            #redshift 0\n",
    "\n",
    "# determine the redshift of the catalogue\n",
    "z_dict = {4:0.0, 3:0.5, 2:1.0, 1:2.0, 0:3.0}\n",
    "redshift = z_dict[snapnum]\n",
    "\n",
    "# read the halo catalogue\n",
    "FoF = readfof.FoF_catalog(snapdir, snapnum, long_ids=False,\n",
    "                          swap=False, SFR=False, read_IDs=False)\n",
    "\n",
    "# get the properties of the halos\n",
    "pos_h = FoF.GroupPos/1e3            #Halo positions in Mpc/h\n",
    "mass  = FoF.GroupMass*1e10          #Halo masses in Msun/h\n",
    "vel_h = FoF.GroupVel*(1.0+redshift) #Halo peculiar velocities in km/s\n",
    "Npart = FoF.GroupLen                #Number of CDM particles in the halo"
   ]
  },
  {
   "cell_type": "code",
   "execution_count": 13,
   "metadata": {},
   "outputs": [
    {
     "data": {
      "text/plain": [
       "(96183,)"
      ]
     },
     "execution_count": 13,
     "metadata": {},
     "output_type": "execute_result"
    }
   ],
   "source": [
    "Npart[Npart>50].shape"
   ]
  }
 ],
 "metadata": {
  "kernelspec": {
   "display_name": "PHLSS",
   "language": "python",
   "name": "python3"
  },
  "language_info": {
   "codemirror_mode": {
    "name": "ipython",
    "version": 3
   },
   "file_extension": ".py",
   "mimetype": "text/x-python",
   "name": "python",
   "nbconvert_exporter": "python",
   "pygments_lexer": "ipython3",
   "version": "3.9.12"
  },
  "orig_nbformat": 4
 },
 "nbformat": 4,
 "nbformat_minor": 2
}
