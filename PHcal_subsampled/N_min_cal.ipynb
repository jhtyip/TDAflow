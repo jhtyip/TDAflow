{
 "cells": [
  {
   "cell_type": "code",
   "execution_count": 1,
   "metadata": {},
   "outputs": [],
   "source": [
    "import numpy as np"
   ]
  },
  {
   "cell_type": "code",
   "execution_count": 3,
   "metadata": {},
   "outputs": [],
   "source": [
    "subfolders = [\"alpha_m/\", \"alpha_p/\", \"fiducial/\", \"fiducial_ZA/\", \"h_m/\", \"h_p/\", \"logM0_m/\", \"logM0_p/\", \"logM1_m/\", \"logM1_p/\", \"logMmin_m/\", \"logMmin_p/\", \"Mnu_p/\", \"Mnu_pp/\", \"Mnu_ppp/\", \"ns_m/\", \"ns_p/\", \"Ob2_m/\", \"Ob2_p/\", \"Om_m/\", \"Om_p/\", \"s8_m/\", \"s8_p/\", \"sigma_logM_m/\", \"sigma_logM_p/\", \"w_m/\", \"w_p/\", \"OR_LSS_m/\", \"OR_LSS_p/\", \"LC_m/\", \"LC_p/\", \"EQ_m/\", \"EQ_p/\"]"
   ]
  },
  {
   "cell_type": "code",
   "execution_count": 4,
   "metadata": {},
   "outputs": [
    {
     "name": "stdout",
     "output_type": "stream",
     "text": [
      "33\n"
     ]
    }
   ],
   "source": [
    "print(len(subfolders))"
   ]
  },
  {
   "cell_type": "code",
   "execution_count": 21,
   "metadata": {},
   "outputs": [
    {
     "name": "stdout",
     "output_type": "stream",
     "text": [
      "\"alpha_m/\": 341103,\n",
      "\"alpha_p/\": 341103,\n",
      "\"fiducial/\": 354298,\n",
      "\"fiducial_ZA/\": 352436,\n",
      "\"h_m/\": 350122,\n",
      "\"h_p/\": 350122,\n",
      "\"logM0_m/\": 339306,\n",
      "\"logM0_p/\": 339306,\n",
      "\"logM1_m/\": 337320,\n",
      "\"logM1_p/\": 337320,\n",
      "\"logMmin_m/\": 330496,\n",
      "\"logMmin_p/\": 330496,\n",
      "\"Mnu_p/\": 352436,\n",
      "\"Mnu_pp/\": 352436,\n",
      "\"Mnu_ppp/\": 352436,\n",
      "\"ns_m/\": 347266,\n",
      "\"ns_p/\": 347266,\n",
      "\"Ob2_m/\": 353118,\n",
      "\"Ob2_p/\": 353118,\n",
      "\"Om_m/\": 346194,\n",
      "\"Om_p/\": 346194,\n",
      "\"s8_m/\": 344607,\n",
      "\"s8_p/\": 344607,\n",
      "\"sigma_logM_m/\": 351652,\n",
      "\"sigma_logM_p/\": 351652,\n",
      "\"w_m/\": 350256,\n",
      "\"w_p/\": 350256,\n",
      "\"OR_LSS_m/\": 353564,\n",
      "\"OR_LSS_p/\": 353564,\n",
      "\"LC_m/\": 353865,\n",
      "\"LC_p/\": 353865,\n",
      "\"EQ_m/\": 354235,\n",
      "\"EQ_p/\": 354235,\n"
     ]
    }
   ],
   "source": [
    "for subfolder in subfolders:\n",
    "    if subfolder == \"fiducial/\":\n",
    "        min = np.amin(np.load(\"N_min_lists/numOfGals_{}.txt.npy\".format(subfolder.replace(\"/\",\"\"))))\n",
    "        print(\"\\\"{}\\\": {},\".format(subfolder, int(min)))\n",
    "    elif subfolder in [\"fiducial_ZA/\", \"Mnu_p/\", \"Mnu_pp/\", \"Mnu_ppp/\"]:\n",
    "        min_ZA = np.amin(np.load(\"N_min_lists/numOfGals_{}.txt.npy\".format(\"fiducial_ZA\")))\n",
    "        min_p = np.amin(np.load(\"N_min_lists/numOfGals_{}.txt.npy\".format(\"Mnu_p\")))\n",
    "        min_pp = np.amin(np.load(\"N_min_lists/numOfGals_{}.txt.npy\".format(\"Mnu_pp\")))\n",
    "        min_ppp = np.amin(np.load(\"N_min_lists/numOfGals_{}.txt.npy\".format(\"Mnu_ppp\")))\n",
    "        print(\"\\\"{}\\\": {},\".format(subfolder, int(np.amin([min_ZA, min_p, min_pp, min_ppp]))))\n",
    "    else:\n",
    "        subfolder_p = subfolder[:-2]+\"p/\"\n",
    "        subfolder_m = subfolder[:-2]+\"m/\"\n",
    "        min_p = np.amin(np.load(\"N_min_lists/numOfGals_{}.txt.npy\".format(subfolder_p.replace(\"/\",\"\"))))\n",
    "        min_m = np.amin(np.load(\"N_min_lists/numOfGals_{}.txt.npy\".format(subfolder_m.replace(\"/\",\"\"))))\n",
    "        print(\"\\\"{}\\\": {},\".format(subfolder, int(np.amin([min_p, min_m]))))\n"
   ]
  },
  {
   "cell_type": "code",
   "execution_count": 22,
   "metadata": {},
   "outputs": [
    {
     "name": "stdout",
     "output_type": "stream",
     "text": [
      "359122\n",
      "350122\n"
     ]
    }
   ],
   "source": [
    "subfolder = \"h_p/\"\n",
    "subfolder_p = subfolder[:-2]+\"p/\"\n",
    "subfolder_m = subfolder[:-2]+\"m/\"\n",
    "min_p = np.amin(np.load(\"N_min_lists/numOfGals_{}.txt.npy\".format(subfolder_p.replace(\"/\",\"\"))))\n",
    "min_m = np.amin(np.load(\"N_min_lists/numOfGals_{}.txt.npy\".format(subfolder_m.replace(\"/\",\"\"))))\n",
    "print(min_p)\n",
    "print(min_m)"
   ]
  },
  {
   "cell_type": "code",
   "execution_count": 25,
   "metadata": {},
   "outputs": [
    {
     "data": {
      "text/plain": [
       "354235"
      ]
     },
     "execution_count": 25,
     "metadata": {},
     "output_type": "execute_result"
    }
   ],
   "source": [
    "N_min_dict = {\n",
    "    \"alpha_m/\": 341103,\n",
    "    \"alpha_p/\": 341103,\n",
    "    \"fiducial/\": 354298,\n",
    "    \"fiducial_ZA/\": 352436,\n",
    "    \"h_m/\": 350122,\n",
    "    \"h_p/\": 350122,\n",
    "    \"logM0_m/\": 339306,\n",
    "    \"logM0_p/\": 339306,\n",
    "    \"logM1_m/\": 337320,\n",
    "    \"logM1_p/\": 337320,\n",
    "    \"logMmin_m/\": 330496,\n",
    "    \"logMmin_p/\": 330496,\n",
    "    \"Mnu_p/\": 352436,\n",
    "    \"Mnu_pp/\": 352436,\n",
    "    \"Mnu_ppp/\": 352436,\n",
    "    \"ns_m/\": 347266,\n",
    "    \"ns_p/\": 347266,\n",
    "    \"Ob2_m/\": 353118,\n",
    "    \"Ob2_p/\": 353118,\n",
    "    \"Om_m/\": 346194,\n",
    "    \"Om_p/\": 346194,\n",
    "    \"s8_m/\": 344607,\n",
    "    \"s8_p/\": 344607,\n",
    "    \"sigma_logM_m/\": 351652,\n",
    "    \"sigma_logM_p/\": 351652,\n",
    "    \"w_m/\": 350256,\n",
    "    \"w_p/\": 350256,\n",
    "    \"OR_LSS_m/\": 353564,\n",
    "    \"OR_LSS_p/\": 353564,\n",
    "    \"LC_m/\": 353865,\n",
    "    \"LC_p/\": 353865,\n",
    "    \"EQ_m/\": 354235,\n",
    "    \"EQ_p/\": 354235\n",
    "}\n",
    "\n",
    "N_min_dict[\"EQ_p/\"]"
   ]
  }
 ],
 "metadata": {
  "kernelspec": {
   "display_name": "PHLSS",
   "language": "python",
   "name": "python3"
  },
  "language_info": {
   "codemirror_mode": {
    "name": "ipython",
    "version": 3
   },
   "file_extension": ".py",
   "mimetype": "text/x-python",
   "name": "python",
   "nbconvert_exporter": "python",
   "pygments_lexer": "ipython3",
   "version": "3.8.5 (default, Sep  3 2020, 21:29:08) [MSC v.1916 64 bit (AMD64)]"
  },
  "orig_nbformat": 4,
  "vscode": {
   "interpreter": {
    "hash": "7f3c20d12c2c24a71313b3d56f15e54a45d0d24aebb7844db1a2e0c9a3a80529"
   }
  }
 },
 "nbformat": 4,
 "nbformat_minor": 2
}
